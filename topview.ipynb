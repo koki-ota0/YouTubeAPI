{
 "cells": [
  {
   "cell_type": "code",
   "execution_count": 2,
   "id": "e29f83bd-a104-4e45-ae1b-77eb064ed3f8",
   "metadata": {
    "collapsed": true,
    "jupyter": {
     "outputs_hidden": true
    },
    "tags": []
   },
   "outputs": [
    {
     "name": "stdout",
     "output_type": "stream",
     "text": [
      "Collecting oauth2client\n",
      "  Downloading oauth2client-4.1.3-py2.py3-none-any.whl (98 kB)\n",
      "     -------------------------------------- 98.2/98.2 kB 935.8 kB/s eta 0:00:00\n",
      "Requirement already satisfied: pyasn1>=0.1.7 in c:\\users\\koki\\appdata\\roaming\\jupyterlab-desktop\\jlab_server\\lib\\site-packages (from oauth2client) (0.5.0)\n",
      "Requirement already satisfied: rsa>=3.1.4 in c:\\users\\koki\\appdata\\roaming\\jupyterlab-desktop\\jlab_server\\lib\\site-packages (from oauth2client) (4.9)\n",
      "Requirement already satisfied: six>=1.6.1 in c:\\users\\koki\\appdata\\roaming\\jupyterlab-desktop\\jlab_server\\lib\\site-packages (from oauth2client) (1.16.0)\n",
      "Requirement already satisfied: httplib2>=0.9.1 in c:\\users\\koki\\appdata\\roaming\\jupyterlab-desktop\\jlab_server\\lib\\site-packages (from oauth2client) (0.22.0)\n",
      "Requirement already satisfied: pyasn1-modules>=0.0.5 in c:\\users\\koki\\appdata\\roaming\\jupyterlab-desktop\\jlab_server\\lib\\site-packages (from oauth2client) (0.3.0)\n",
      "Requirement already satisfied: pyparsing!=3.0.0,!=3.0.1,!=3.0.2,!=3.0.3,<4,>=2.4.2 in c:\\users\\koki\\appdata\\roaming\\jupyterlab-desktop\\jlab_server\\lib\\site-packages (from httplib2>=0.9.1->oauth2client) (3.0.9)\n",
      "Installing collected packages: oauth2client\n",
      "Successfully installed oauth2client-4.1.3\n"
     ]
    }
   ],
   "source": [
    "!pip install oauth2client"
   ]
  },
  {
   "cell_type": "code",
   "execution_count": 6,
   "id": "b0871405-5623-4529-92a0-4ac73b6f567b",
   "metadata": {},
   "outputs": [],
   "source": [
    "import json\n",
    "from googleapiclient.discovery import build\n",
    "from googleapiclient.errors import HttpError\n",
    "from oauth2client.tools import argparser"
   ]
  },
  {
   "cell_type": "code",
   "execution_count": 7,
   "id": "37dbbd8a-2d1c-4a79-858e-47f9c4350962",
   "metadata": {
    "tags": []
   },
   "outputs": [],
   "source": [
    "# 設定ファイルのパス\n",
    "config_file = 'config.json'\n",
    "\n",
    "# 設定ファイルの読み込み\n",
    "with open(config_file) as f:\n",
    "    config = json.load(f)\n",
    "    \n",
    "# APIキーの取得\n",
    "api_key = config['api_key']\n",
    "\n",
    "# YouTube Data APIの設定\n",
    "youtube = build('youtube', 'v3', developerKey=api_key)"
   ]
  },
  {
   "cell_type": "code",
   "execution_count": 10,
   "id": "c21bad53-0bca-426d-b167-f5f3589332ee",
   "metadata": {},
   "outputs": [],
   "source": [
    "def get_most_replayed_videos(n=10):\n",
    "    try:\n",
    "        # \"mostPopular\"チャートの動画を取得\n",
    "        response = youtube.videos().list(\n",
    "            part=\"snippet,statistics\",\n",
    "            chart=\"mostPopular\",\n",
    "            maxResults=n  # 取得する動画の数を指定\n",
    "        ).execute()\n",
    "\n",
    "        videos = response[\"items\"]\n",
    "\n",
    "        # 結果を表示\n",
    "        for video in videos:\n",
    "            video_id = video[\"id\"]\n",
    "            title = video[\"snippet\"][\"title\"]\n",
    "            view_count = video[\"statistics\"][\"viewCount\"]\n",
    "            print(f\"Video ID: {video_id}\")\n",
    "            print(f\"Title: {title}\")\n",
    "            print(f\"View Count: {view_count}\")\n",
    "            print()\n",
    "\n",
    "    except HttpError as e:\n",
    "        print(\"An HTTP error occurred:\")\n",
    "        print(e)\n"
   ]
  },
  {
   "cell_type": "code",
   "execution_count": 14,
   "id": "d6a28107-5291-417f-8b64-39169999ff75",
   "metadata": {},
   "outputs": [
    {
     "name": "stdout",
     "output_type": "stream",
     "text": [
      "Video ID: 4pZ6ZFvuNtU\n",
      "Title: #DinnerWithTheDon featuring K Hood @Rollitupk\n",
      "View Count: 757778\n",
      "\n",
      "Video ID: 6FY5Nk9GpWs\n",
      "Title: Hermitcraft 9: Episode 39 - THE BIG CLEAN\n",
      "View Count: 545804\n",
      "\n",
      "Video ID: UQQBdxnZaZ8\n",
      "Title: I Threw A Pool Party At The AMP HOUSE\n",
      "View Count: 1597758\n",
      "\n",
      "Video ID: AqG0GF_LA0Q\n",
      "Title: KAROL G - WATATI (feat. Aldo Ranks) (From Barbie The Album) [Official Music Video]\n",
      "View Count: 1185857\n",
      "\n",
      "Video ID: itXcGea7DGo\n",
      "Title: Apex Legends™ Dressed to Kill Collection Event Trailer\n",
      "View Count: 462226\n",
      "\n",
      "Video ID: gAFgaI5D3Gc\n",
      "Title: MISAMO「Marshmallow」Music Video\n",
      "View Count: 1334592\n",
      "\n",
      "Video ID: peloHl5sb4I\n",
      "Title: Reviewing Japan.\n",
      "View Count: 526170\n",
      "\n",
      "Video ID: WP9JfCoLJec\n",
      "Title: I Cheated in a RAINBOW FRIENDS Mob Battle Competition!\n",
      "View Count: 191236\n",
      "\n",
      "Video ID: 2hI1IY782ig\n",
      "Title: Rebuilding A Flooded $2,000,000 McLaren P1 | Part 5\n",
      "View Count: 1469458\n",
      "\n",
      "Video ID: t4zO7zo6wr0\n",
      "Title: Stephen A. Smith weighs in on Shannon Sharpe and Skip Bayless' teary goodbye\n",
      "View Count: 792323\n",
      "\n"
     ]
    }
   ],
   "source": [
    "get_most_replayed_videos(10)\n"
   ]
  }
 ],
 "metadata": {
  "kernelspec": {
   "display_name": "Python 3 (ipykernel)",
   "language": "python",
   "name": "python3"
  },
  "language_info": {
   "codemirror_mode": {
    "name": "ipython",
    "version": 3
   },
   "file_extension": ".py",
   "mimetype": "text/x-python",
   "name": "python",
   "nbconvert_exporter": "python",
   "pygments_lexer": "ipython3",
   "version": "3.8.15"
  }
 },
 "nbformat": 4,
 "nbformat_minor": 5
}
