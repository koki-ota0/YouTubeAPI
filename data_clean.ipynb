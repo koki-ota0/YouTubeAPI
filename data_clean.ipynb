{
 "cells": [
  {
   "cell_type": "code",
   "execution_count": 68,
   "id": "949aa14e-f498-4f39-9756-cb5d66597bc9",
   "metadata": {},
   "outputs": [],
   "source": [
    "import os\n",
    "import json\n",
    "import time\n",
    "import shutil\n",
    "import winsound\n",
    "import requests\n",
    "import numpy as np\n",
    "import pandas as pd"
   ]
  },
  {
   "cell_type": "code",
   "execution_count": 1,
   "id": "7524d087-cb83-4fb3-a757-57386b1da28a",
   "metadata": {
    "jupyter": {
     "source_hidden": true
    },
    "tags": []
   },
   "outputs": [],
   "source": [
    "import os\n",
    "import shutil\n",
    "\n",
    "# コメントファイルの移動\n",
    "comments_folder = \"data/comments\"\n",
    "for comments_file in os.listdir(comments_folder):\n",
    "    channel_name = comments_file.split(\"_\")[0]\n",
    "    folder_name = f\"data/{channel_name}\"\n",
    "    os.makedirs(folder_name, exist_ok=True)\n",
    "    comments_file_src = os.path.join(comments_folder, comments_file)\n",
    "    comments_file_dst = os.path.join(folder_name, comments_file)\n",
    "    shutil.move(comments_file_src, comments_file_dst)\n",
    "\n",
    "# 動画ファイルの移動\n",
    "videos_folder = \"data/videos\"\n",
    "for videos_file in os.listdir(videos_folder):\n",
    "    channel_name = videos_file.split(\"_\")[0]\n",
    "    folder_name = f\"data/{channel_name}\"\n",
    "    os.makedirs(folder_name, exist_ok=True)\n",
    "    videos_file_src = os.path.join(videos_folder, videos_file)\n",
    "    videos_file_dst = os.path.join(folder_name, videos_file)\n",
    "    shutil.move(videos_file_src, videos_file_dst)"
   ]
  },
  {
   "cell_type": "code",
   "execution_count": 86,
   "id": "e936e12a-e0a9-49aa-816b-c824e4a191e1",
   "metadata": {},
   "outputs": [],
   "source": [
    "def read_comments(file):\n",
    "    with open(file, 'r', encoding='utf-8') as f:\n",
    "        comments = json.load(f)\n",
    "    \n",
    "    data_list = []\n",
    "    for c in comments:\n",
    "        try:\n",
    "            data = {\n",
    "                'etag': c['etag'],  # コメントのetag\n",
    "                'videoId': c['snippet']['videoId'],  # 動画ID\n",
    "                'text': c['snippet']['topLevelComment']['snippet']['textOriginal'],  # コメントのテキスト\n",
    "                'author': c['snippet']['topLevelComment']['snippet']['authorDisplayName'],  # コメント投稿者の表示名\n",
    "                'authorId': c['snippet']['topLevelComment']['snippet']['authorChannelId']['value'],  # コメント投稿者のチャンネルID\n",
    "                'likeCount': c['snippet']['topLevelComment']['snippet']['likeCount'],  # コメントの「いいね」数\n",
    "                'ReplyCount': c['snippet']['totalReplyCount'],  # 返信コメントの数\n",
    "                'date': c['snippet']['topLevelComment']['snippet']['updatedAt']  # コメントの更新日時\n",
    "            }\n",
    "            data_list.append(data)\n",
    "        except KeyError as e:\n",
    "            # エラーが発生した場合は処理をスキップ\n",
    "            # print(f\"エラー: {e}\")\n",
    "            pass\n",
    "    \n",
    "    df = pd.DataFrame(data_list)\n",
    "    return df\n",
    "\n",
    "def remove_duplicates(df, column):\n",
    "    # 重複する要素を検索\n",
    "    duplicates = df[column][df[column].duplicated()]\n",
    "    \n",
    "    # 重複要素をプリント\n",
    "    print(\"重複する要素:\")\n",
    "    print(duplicates)\n",
    "    \n",
    "    # ユーザーの確認を取る\n",
    "    answer = input(\"重複を削除しますか？(y/n): \")\n",
    "    \n",
    "    if answer.lower() == 'y':\n",
    "        # 重複を削除\n",
    "        df = df.drop_duplicates(subset=column)\n",
    "        print(\"重複が削除されました。\")\n",
    "    else:\n",
    "        print(\"重複削除はキャンセルされました。\")\n",
    "    \n",
    "    return df"
   ]
  },
  {
   "cell_type": "code",
   "execution_count": 102,
   "id": "d8a76b0b-3dc0-4dd0-821f-70512c12c148",
   "metadata": {},
   "outputs": [
    {
     "ename": "FileNotFoundError",
     "evalue": "[Errno 2] No such file or directory: 'data/@quizknock/@quizknock_comments.json'",
     "output_type": "error",
     "traceback": [
      "\u001b[1;31m---------------------------------------------------------------------------\u001b[0m",
      "\u001b[1;31mFileNotFoundError\u001b[0m                         Traceback (most recent call last)",
      "Cell \u001b[1;32mIn[102], line 3\u001b[0m\n\u001b[0;32m      1\u001b[0m channel \u001b[38;5;241m=\u001b[39m \u001b[38;5;124m\"\u001b[39m\u001b[38;5;124m@quizknock\u001b[39m\u001b[38;5;124m\"\u001b[39m \u001b[38;5;66;03m#@param{type:'string'}\u001b[39;00m\n\u001b[0;32m      2\u001b[0m file \u001b[38;5;241m=\u001b[39m \u001b[38;5;124mf\u001b[39m\u001b[38;5;124m\"\u001b[39m\u001b[38;5;124mdata/\u001b[39m\u001b[38;5;132;01m{\u001b[39;00mchannel\u001b[38;5;132;01m}\u001b[39;00m\u001b[38;5;124m/\u001b[39m\u001b[38;5;132;01m{\u001b[39;00mchannel\u001b[38;5;132;01m}\u001b[39;00m\u001b[38;5;124m_comments.json\u001b[39m\u001b[38;5;124m\"\u001b[39m\n\u001b[1;32m----> 3\u001b[0m df \u001b[38;5;241m=\u001b[39m \u001b[43mread_comments\u001b[49m\u001b[43m(\u001b[49m\u001b[43mfile\u001b[49m\u001b[43m)\u001b[49m\n",
      "Cell \u001b[1;32mIn[86], line 2\u001b[0m, in \u001b[0;36mread_comments\u001b[1;34m(file)\u001b[0m\n\u001b[0;32m      1\u001b[0m \u001b[38;5;28;01mdef\u001b[39;00m \u001b[38;5;21mread_comments\u001b[39m(file):\n\u001b[1;32m----> 2\u001b[0m     \u001b[38;5;28;01mwith\u001b[39;00m \u001b[38;5;28;43mopen\u001b[39;49m\u001b[43m(\u001b[49m\u001b[43mfile\u001b[49m\u001b[43m,\u001b[49m\u001b[43m \u001b[49m\u001b[38;5;124;43m'\u001b[39;49m\u001b[38;5;124;43mr\u001b[39;49m\u001b[38;5;124;43m'\u001b[39;49m\u001b[43m,\u001b[49m\u001b[43m \u001b[49m\u001b[43mencoding\u001b[49m\u001b[38;5;241;43m=\u001b[39;49m\u001b[38;5;124;43m'\u001b[39;49m\u001b[38;5;124;43mutf-8\u001b[39;49m\u001b[38;5;124;43m'\u001b[39;49m\u001b[43m)\u001b[49m \u001b[38;5;28;01mas\u001b[39;00m f:\n\u001b[0;32m      3\u001b[0m         comments \u001b[38;5;241m=\u001b[39m json\u001b[38;5;241m.\u001b[39mload(f)\n\u001b[0;32m      5\u001b[0m     data_list \u001b[38;5;241m=\u001b[39m []\n",
      "File \u001b[1;32m~\\AppData\\Roaming\\jupyterlab-desktop\\jlab_server\\lib\\site-packages\\IPython\\core\\interactiveshell.py:282\u001b[0m, in \u001b[0;36m_modified_open\u001b[1;34m(file, *args, **kwargs)\u001b[0m\n\u001b[0;32m    275\u001b[0m \u001b[38;5;28;01mif\u001b[39;00m file \u001b[38;5;129;01min\u001b[39;00m {\u001b[38;5;241m0\u001b[39m, \u001b[38;5;241m1\u001b[39m, \u001b[38;5;241m2\u001b[39m}:\n\u001b[0;32m    276\u001b[0m     \u001b[38;5;28;01mraise\u001b[39;00m \u001b[38;5;167;01mValueError\u001b[39;00m(\n\u001b[0;32m    277\u001b[0m         \u001b[38;5;124mf\u001b[39m\u001b[38;5;124m\"\u001b[39m\u001b[38;5;124mIPython won\u001b[39m\u001b[38;5;124m'\u001b[39m\u001b[38;5;124mt let you open fd=\u001b[39m\u001b[38;5;132;01m{\u001b[39;00mfile\u001b[38;5;132;01m}\u001b[39;00m\u001b[38;5;124m by default \u001b[39m\u001b[38;5;124m\"\u001b[39m\n\u001b[0;32m    278\u001b[0m         \u001b[38;5;124m\"\u001b[39m\u001b[38;5;124mas it is likely to crash IPython. If you know what you are doing, \u001b[39m\u001b[38;5;124m\"\u001b[39m\n\u001b[0;32m    279\u001b[0m         \u001b[38;5;124m\"\u001b[39m\u001b[38;5;124myou can use builtins\u001b[39m\u001b[38;5;124m'\u001b[39m\u001b[38;5;124m open.\u001b[39m\u001b[38;5;124m\"\u001b[39m\n\u001b[0;32m    280\u001b[0m     )\n\u001b[1;32m--> 282\u001b[0m \u001b[38;5;28;01mreturn\u001b[39;00m \u001b[43mio_open\u001b[49m\u001b[43m(\u001b[49m\u001b[43mfile\u001b[49m\u001b[43m,\u001b[49m\u001b[43m \u001b[49m\u001b[38;5;241;43m*\u001b[39;49m\u001b[43margs\u001b[49m\u001b[43m,\u001b[49m\u001b[43m \u001b[49m\u001b[38;5;241;43m*\u001b[39;49m\u001b[38;5;241;43m*\u001b[39;49m\u001b[43mkwargs\u001b[49m\u001b[43m)\u001b[49m\n",
      "\u001b[1;31mFileNotFoundError\u001b[0m: [Errno 2] No such file or directory: 'data/@quizknock/@quizknock_comments.json'"
     ]
    }
   ],
   "source": [
    "channel = \"@quizknock\" #@param{type:'string'}\n",
    "file = f\"data/{channel}/{channel}_comments.json\"\n",
    "df = read_comments(file)"
   ]
  },
  {
   "cell_type": "code",
   "execution_count": 100,
   "id": "20bc7ff7-7d00-4cab-9062-5e00eceb003a",
   "metadata": {},
   "outputs": [
    {
     "name": "stdout",
     "output_type": "stream",
     "text": [
      "重複する要素:\n",
      "Series([], Name: etag, dtype: object)\n"
     ]
    },
    {
     "name": "stdin",
     "output_type": "stream",
     "text": [
      "重複を削除しますか？(y/n):  y\n"
     ]
    },
    {
     "name": "stdout",
     "output_type": "stream",
     "text": [
      "重複が削除されました。\n"
     ]
    }
   ],
   "source": [
    "# 重複する要素を削除したい列の名前\n",
    "column_name = 'etag'\n",
    "\n",
    "# DataFrameから重複を削除\n",
    "df = remove_duplicates(df, column_name)"
   ]
  },
  {
   "cell_type": "code",
   "execution_count": 101,
   "id": "7272b6d4-ba29-4ceb-a21b-5770173dfb76",
   "metadata": {},
   "outputs": [],
   "source": [
    "destination_folder = f'data/{channel}'\n",
    "df.to_json(f'{destination_folder}/{channel}_cleanComments.json', orient='records')"
   ]
  }
 ],
 "metadata": {
  "kernelspec": {
   "display_name": "Python 3 (ipykernel)",
   "language": "python",
   "name": "python3"
  },
  "language_info": {
   "codemirror_mode": {
    "name": "ipython",
    "version": 3
   },
   "file_extension": ".py",
   "mimetype": "text/x-python",
   "name": "python",
   "nbconvert_exporter": "python",
   "pygments_lexer": "ipython3",
   "version": "3.8.15"
  }
 },
 "nbformat": 4,
 "nbformat_minor": 5
}
