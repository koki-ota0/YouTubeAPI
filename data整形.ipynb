{
 "cells": [
  {
   "cell_type": "code",
   "execution_count": 1,
   "id": "949aa14e-f498-4f39-9756-cb5d66597bc9",
   "metadata": {},
   "outputs": [],
   "source": [
    "import os\n",
    "import json\n",
    "import time\n",
    "import shutil\n",
    "import winsound\n",
    "import requests\n",
    "import numpy as np\n",
    "import pandas as pd"
   ]
  },
  {
   "cell_type": "code",
   "execution_count": 1,
   "id": "7524d087-cb83-4fb3-a757-57386b1da28a",
   "metadata": {
    "jupyter": {
     "source_hidden": true
    },
    "tags": []
   },
   "outputs": [],
   "source": [
    "import os\n",
    "import shutil\n",
    "\n",
    "# コメントファイルの移動\n",
    "comments_folder = \"data/comments\"\n",
    "for comments_file in os.listdir(comments_folder):\n",
    "    channel_name = comments_file.split(\"_\")[0]\n",
    "    folder_name = f\"data/{channel_name}\"\n",
    "    os.makedirs(folder_name, exist_ok=True)\n",
    "    comments_file_src = os.path.join(comments_folder, comments_file)\n",
    "    comments_file_dst = os.path.join(folder_name, comments_file)\n",
    "    shutil.move(comments_file_src, comments_file_dst)\n",
    "\n",
    "# 動画ファイルの移動\n",
    "videos_folder = \"data/videos\"\n",
    "for videos_file in os.listdir(videos_folder):\n",
    "    channel_name = videos_file.split(\"_\")[0]\n",
    "    folder_name = f\"data/{channel_name}\"\n",
    "    os.makedirs(folder_name, exist_ok=True)\n",
    "    videos_file_src = os.path.join(videos_folder, videos_file)\n",
    "    videos_file_dst = os.path.join(folder_name, videos_file)\n",
    "    shutil.move(videos_file_src, videos_file_dst)"
   ]
  },
  {
   "cell_type": "code",
   "execution_count": 20,
   "id": "46499564-92c7-4792-a022-ce2f7facf8cd",
   "metadata": {},
   "outputs": [],
   "source": [
    "def read_json(file):\n",
    "    # JSONファイルを読み込む\n",
    "    with open(file, 'r', encoding='utf-8') as f:\n",
    "        data = json.load(f)\n",
    "\n",
    "    # DataFrameに変換する\n",
    "    df = pd.DataFrame(data)\n",
    "    return df\n",
    "\n",
    "file = \"@tsensei_comments\" #@param{type:'string'}\n",
    "file_path = f\"data/comments/{file}.json\"\n",
    "comments = read_json(file_path)"
   ]
  },
  {
   "cell_type": "code",
   "execution_count": 18,
   "id": "00cd34f9-1f63-4bba-854e-2787820564d4",
   "metadata": {},
   "outputs": [
    {
     "data": {
      "text/plain": [
       "kind                                   youtube#commentThread\n",
       "etag                             HuFw-Zm9z2D90rdvMqgY1GfJELM\n",
       "id                                UgxYqaFnLfDCyYwaeXh4AaABAg\n",
       "snippet    {'videoId': 'I-PVrxKrOPA', 'topLevelComment': ...\n",
       "Name: 0, dtype: object"
      ]
     },
     "execution_count": 18,
     "metadata": {},
     "output_type": "execute_result"
    }
   ],
   "source": [
    "comments.iloc[0]"
   ]
  },
  {
   "cell_type": "code",
   "execution_count": 17,
   "id": "e411cd8e-35e8-44b9-b7f6-0f8bfc5a1c7b",
   "metadata": {},
   "outputs": [
    {
     "data": {
      "text/plain": [
       "{'videoId': 'I-PVrxKrOPA',\n",
       " 'topLevelComment': {'kind': 'youtube#comment',\n",
       "  'etag': 'of5rY2ilFRQKesr3y8l24T_36qQ',\n",
       "  'id': 'Ugxn3HcsmKOn_6pkrj14AaABAg',\n",
       "  'snippet': {'videoId': 'I-PVrxKrOPA',\n",
       "   'textDisplay': '意見を言えない環境はおかしいっていう考えなのに、ご自身のコメ欄は否定意見受け入れないんですね、、、',\n",
       "   'textOriginal': '意見を言えない環境はおかしいっていう考えなのに、ご自身のコメ欄は否定意見受け入れないんですね、、、',\n",
       "   'authorDisplayName': 'takako',\n",
       "   'authorProfileImageUrl': 'https://yt3.ggpht.com/ytc/AGIKgqMBtfFSfSu5fQzX9s8hTbyE--ZgQnAta9o6bvAbxcI-OrlLVcsRs3fgRO1RkMCO=s48-c-k-c0x00ffffff-no-rj',\n",
       "   'authorChannelUrl': 'http://www.youtube.com/channel/UCY1IencVSI6vAFbu7HZxwdg',\n",
       "   'authorChannelId': {'value': 'UCY1IencVSI6vAFbu7HZxwdg'},\n",
       "   'canRate': True,\n",
       "   'viewerRating': 'none',\n",
       "   'likeCount': 3,\n",
       "   'publishedAt': '2023-06-15T13:31:40Z',\n",
       "   'updatedAt': '2023-06-15T13:31:40Z'}},\n",
       " 'canReply': True,\n",
       " 'totalReplyCount': 0,\n",
       " 'isPublic': True}"
      ]
     },
     "execution_count": 17,
     "metadata": {},
     "output_type": "execute_result"
    }
   ],
   "source": [
    "\n",
    "def read_json(file):\n",
    "    rows = []\n",
    "    \n",
    "    # JSONファイルを一行ずつ読み込む\n",
    "    with open(file, 'r', encoding='utf-8') as f:\n",
    "        for line in f:\n",
    "            data = json.loads(line)\n",
    "            \n",
    "            # 'topLevelComment'内の要素を抽出してDataFrameに変換\n",
    "            comment_data = data['snippet']['topLevelComment']['snippet']\n",
    "            df = pd.DataFrame.from_dict(comment_data, orient='index').T\n",
    "            \n",
    "            # 'topLevelComment'以外の要素もDataFrameに追加\n",
    "            df['etag'] = data['etag']\n",
    "            df['videoId'] = data['videoId']\n",
    "            df['canReply'] = data['canReply']\n",
    "            df['totalReplyCount'] = data['totalReplyCount']\n",
    "            df['isPublic'] = data['isPublic']\n",
    "            \n",
    "            rows.append(df)\n",
    "    \n",
    "    # 全ての行を結合して最終的なDataFrameを作成\n",
    "    final_df = pd.concat(rows, ignore_index=True)\n",
    "    return final_df\n",
    "\n",
    "# JSONファイルを読み込んでDataFrameに変換する\n",
    "file_path = 'data/comments.json'\n",
    "df = read_json(file_path)\n",
    "\n",
    "# 結果を表示\n",
    "print(df)"
   ]
  },
  {
   "cell_type": "code",
   "execution_count": 16,
   "id": "00fafe7e-74b6-43eb-8a51-de1cfd467d20",
   "metadata": {},
   "outputs": [
    {
     "name": "stdout",
     "output_type": "stream",
     "text": [
      "       videoId                                        textDisplay  \\\n",
      "0  I-PVrxKrOPA  意見を言えない環境はおかしいっていう考えなのに、ご自身のコメ欄は否定意見受け入れないんですね、、、   \n",
      "\n",
      "                                        textOriginal authorDisplayName  \\\n",
      "0  意見を言えない環境はおかしいっていう考えなのに、ご自身のコメ欄は否定意見受け入れないんですね、、、            takako   \n",
      "\n",
      "                               authorProfileImageUrl  \\\n",
      "0  https://yt3.ggpht.com/ytc/AGIKgqMBtfFSfSu5fQzX...   \n",
      "\n",
      "                                    authorChannelUrl  \\\n",
      "0  http://www.youtube.com/channel/UCY1IencVSI6vAF...   \n",
      "\n",
      "                         authorChannelId canRate viewerRating likeCount  \\\n",
      "0  {'value': 'UCY1IencVSI6vAFbu7HZxwdg'}    True         none         3   \n",
      "\n",
      "            publishedAt             updatedAt  canReply  totalReplyCount  \\\n",
      "0  2023-06-15T13:31:40Z  2023-06-15T13:31:40Z      True                0   \n",
      "\n",
      "   isPublic  \n",
      "0      True  \n",
      "       videoId                                        textDisplay  \\\n",
      "0  I-PVrxKrOPA  意見を言えない環境はおかしいっていう考えなのに、ご自身のコメ欄は否定意見受け入れないんですね、、、   \n",
      "\n",
      "                                        textOriginal authorDisplayName  \\\n",
      "0  意見を言えない環境はおかしいっていう考えなのに、ご自身のコメ欄は否定意見受け入れないんですね、、、            takako   \n",
      "\n",
      "                               authorProfileImageUrl  \\\n",
      "0  https://yt3.ggpht.com/ytc/AGIKgqMBtfFSfSu5fQzX...   \n",
      "\n",
      "                                    authorChannelUrl  \\\n",
      "0  http://www.youtube.com/channel/UCY1IencVSI6vAF...   \n",
      "\n",
      "                         authorChannelId canRate viewerRating likeCount  \\\n",
      "0  {'value': 'UCY1IencVSI6vAFbu7HZxwdg'}    True         none         3   \n",
      "\n",
      "            publishedAt             updatedAt  canReply  totalReplyCount  \\\n",
      "0  2023-06-15T13:31:40Z  2023-06-15T13:31:40Z      True                0   \n",
      "\n",
      "   isPublic  \n",
      "0      True  \n"
     ]
    }
   ],
   "source": [
    "# 'topLevelComment'内の要素を抽出してDataFrameに変換\n",
    "comment_data = data['topLevelComment']['snippet']\n",
    "df = pd.DataFrame.from_dict(comment_data, orient='index').T\n",
    "\n",
    "# 'topLevelComment'以外の要素もDataFrameに追加\n",
    "df['videoId'] = data['videoId']\n",
    "df['canReply'] = data['canReply']\n",
    "df['totalReplyCount'] = data['totalReplyCount']\n",
    "df['isPublic'] = data['isPublic']\n",
    "\n",
    "# 結果を表示\n",
    "print(df)\n",
    "\n",
    "# 結果を表示\n",
    "print(df)"
   ]
  },
  {
   "cell_type": "code",
   "execution_count": 19,
   "id": "20bc7ff7-7d00-4cab-9062-5e00eceb003a",
   "metadata": {},
   "outputs": [
    {
     "name": "stdout",
     "output_type": "stream",
     "text": [
      "重複する要素:\n",
      "Series([], Name: etag, dtype: object)\n"
     ]
    }
   ],
   "source": [
    "def remove_duplicates(df, column):\n",
    "    # 重複する要素を検索\n",
    "    duplicates = df[column][df[column].duplicated()]\n",
    "    \n",
    "    # 重複要素をプリント\n",
    "    print(\"重複する要素:\")\n",
    "    print(duplicates)\n",
    "    \n",
    "    # 重複を削除\n",
    "    #df = df.drop_duplicates(subset=column)\n",
    "    \n",
    "    return df\n",
    "\n",
    "# 重複する要素を削除したい列の名前\n",
    "column_name = 'etag'\n",
    "\n",
    "# DataFrameから重複を削除\n",
    "df = remove_duplicates(comments, column_name)"
   ]
  }
 ],
 "metadata": {
  "kernelspec": {
   "display_name": "Python 3 (ipykernel)",
   "language": "python",
   "name": "python3"
  },
  "language_info": {
   "codemirror_mode": {
    "name": "ipython",
    "version": 3
   },
   "file_extension": ".py",
   "mimetype": "text/x-python",
   "name": "python",
   "nbconvert_exporter": "python",
   "pygments_lexer": "ipython3",
   "version": "3.8.15"
  }
 },
 "nbformat": 4,
 "nbformat_minor": 5
}
